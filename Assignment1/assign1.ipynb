{
 "cells": [
  {
   "cell_type": "markdown",
   "metadata": {},
   "source": [
    "# Computer Vision CSCI-GA.2272-001 Assignment 1\n",
    "\n",
    "## Introduction\n",
    "\n",
    "This assignment is an introduction to using PyTorch for training simple neural net models. Two different datasets will be used: \n",
    "- MNIST digits [handwritten digits]\n",
    "- CIFAR-10 [32x32 resolution color images of 10 object classes].\n",
    "\n",
    "## Requirements\n",
    "\n",
    "You should perform this assignment in PyTorch, modify this ipython notebook\n",
    "\n",
    "To install PyTorch, follow instructions at http://pytorch.org/\n",
    "\n",
    "Please email your assignment to the graders: Yi-Hsiang Kao (ykh342@nyu.edu) and Anshul Sharma (as10950@nyu.edu).\n",
    "\n",
    "## Warmup [10%]\n",
    "\n",
    "It is always good practice to visually inspect your data before trying to train a model, since it lets you check for problems and get a feel for the task at hand.\n",
    "\n",
    "MNIST is a dataset of 70,000 grayscale hand-written digits (0 through 9).\n",
    "60,000 of these are training images. 10,000 are a held out test set. \n",
    "\n",
    "CIFAR-10 is a dataset of 60,000 color images (32 by 32 resolution) across 10 classes\n",
    "(airplane, automobile, bird, cat, deer, dog, frog, horse, ship, truck). \n",
    "The train/test split is 50k/10k.\n",
    "\n",
    "Use `matplotlib` and ipython notebook's visualization capabilities to display some of these images.\n",
    "[See this PyTorch tutorial page](http://pytorch.org/tutorials/beginner/blitz/cifar10_tutorial.html#sphx-glr-beginner-blitz-cifar10-tutorial-py) for hints on how to achieve this.\n",
    "\n",
    "** Relevant Cell: \"Data Loading\" **\n",
    "\n",
    "## Training a Single Layer Network on MNIST [20%]\n",
    "\n",
    "Start by running the training on MNIST.\n",
    "By default if you run this notebook successfully, it will train on MNIST.\n",
    "\n",
    "This will initialize a single layer model train it on the 50,000 MNIST training images for 10 epochs (passes through the training data). \n",
    "\n",
    "The loss function [cross_entropy](http://pytorch.org/docs/master/nn.html?highlight=cross_entropy#torch.nn.functional.cross_entropy) computes a Logarithm of the Softmax on the output of the neural network, and then computes the negative log-likelihood w.r.t. the given `target`.\n",
    "\n",
    "The default values for the learning rate, batch size and number of epochs are given in the \"options\" cell of this notebook. \n",
    "Unless otherwise specified, use the default values throughout this assignment. \n",
    "\n",
    "Note the decrease in training loss and corresponding decrease in validation errors.\n",
    "\n",
    "Paste the output into your report.\n",
    "(a): Add code to plot out the network weights as images (one for each output, of size 28 by 28) after the last epoch. Grab a screenshot of the figure and include it in your report. (Hint threads: [#1](https://discuss.pytorch.org/t/understanding-deep-network-visualize-weights/2060/2?u=smth) [#2](https://github.com/pytorch/vision#utils) )\n",
    "\n",
    "(b): Reduce the number of training examples to just 50. [Hint: limit the iterator in the `train` function]. \n",
    "Paste the output into your report and explain what is happening to the model.\n",
    "\n",
    "## Training a Multi-Layer Network on MNIST [20%]\n",
    "\n",
    "- Add an extra layer to the network with 1000 hidden units and a `tanh` non-linearity. [Hint: modify the `Net` class]. Train the model for 10 epochs and save the output into your report.\n",
    "-  Now set the learning rate to 10 and observe what happens during training. Save the output in your report and give a brief explanation\n",
    "\n",
    "## Training a Convolutional Network on CIFAR [50%]\n",
    "\n",
    "To change over to the CIFAR-10 dataset, change the `options` cell's `dataset` variable to `'cifar10'`.\n",
    "\n",
    "- Create a convolutional network with the following architecture:\n",
    "  - Convolution with 5 by 5 filters, 16 feature maps + Tanh nonlinearity.\n",
    "  - 2 by 2 max pooling.\n",
    "  - Convolution with 5 by 5 filters, 128 feature maps + Tanh nonlinearity.\n",
    "  - 2 by 2 max pooling.\n",
    "  - Flatten to vector.\n",
    "  - Linear layer with 64 hidden units + Tanh nonlinearity.\n",
    "  - Linear layer to 10 output units.\n",
    "\n",
    "Train it for 20 epochs on the CIFAR-10 training set and copy the output\n",
    "into your report, along with a image of the first layer filters.\n",
    "\n",
    "Hints: [Follow the first PyTorch tutorial](http://pytorch.org/tutorials/beginner/blitz/neural_networks_tutorial.html#sphx-glr-beginner-blitz-neural-networks-tutorial-py) or look at the [MNIST example](https://github.com/pytorch/examples/tree/master/mnist)\n",
    "\n",
    "- Give a breakdown of the parameters within the above model, and the overall number."
   ]
  },
  {
   "cell_type": "code",
   "execution_count": 2,
   "metadata": {},
   "outputs": [],
   "source": [
    "from __future__ import print_function\n",
    "import argparse\n",
    "import torch\n",
    "import torch.nn as nn\n",
    "import torch.nn.functional as F\n",
    "import torch.optim as optim\n",
    "from torchvision import datasets, transforms\n",
    "from torch.autograd import Variable"
   ]
  },
  {
   "cell_type": "code",
   "execution_count": 74,
   "metadata": {},
   "outputs": [],
   "source": [
    "# options\n",
    "dataset = 'cifar10'# options: 'mnist' | 'cifar10'\n",
    "# dataset = 'mnist'\n",
    "batch_size = 64   # input batch size for training\n",
    "epochs = 2       # number of epochs to train\n",
    "lr = 0.01        # learning rate"
   ]
  },
  {
   "cell_type": "code",
   "execution_count": 75,
   "metadata": {},
   "outputs": [
    {
     "name": "stdout",
     "output_type": "stream",
     "text": [
      "Files already downloaded and verified\n",
      "Files already downloaded and verified\n"
     ]
    }
   ],
   "source": [
    "# Data Loading\n",
    "# Warning: this cell might take some time when you run it for the first time, \n",
    "#          because it will download the datasets from the internet\n",
    "if dataset == 'mnist':\n",
    "    data_transform = transforms.Compose([\n",
    "        transforms.ToTensor(),\n",
    "        transforms.Normalize((0.1307,), (0.3081,))\n",
    "    ])\n",
    "    trainset = datasets.MNIST(root='.', train=True, download=True, transform=data_transform)\n",
    "    testset = datasets.MNIST(root='.', train=False, download=True, transform=data_transform)\n",
    "    classes = (0,1,2,3,4,5,6,7,8,9)\n",
    "    \n",
    "elif dataset == 'cifar10':\n",
    "    data_transform = transforms.Compose([\n",
    "        transforms.ToTensor(),\n",
    "        transforms.Normalize((0.5, 0.5, 0.5), (0.5, 0.5, 0.5)),\n",
    "    ])\n",
    "    trainset = datasets.CIFAR10(root='.', train=True, download=True, transform=data_transform)\n",
    "    testset = datasets.CIFAR10(root='.', train=False, download=True, transform=data_transform)\n",
    "    classes = ('plane', 'car', 'bird', 'cat', 'deer', 'dog', 'frog', 'horse', 'ship', 'truck')\n",
    "    \n",
    "train_loader = torch.utils.data.DataLoader(trainset, batch_size=batch_size, shuffle=True, num_workers=0)\n",
    "test_loader  = torch.utils.data.DataLoader(testset, batch_size=batch_size, shuffle=False, num_workers=0)"
   ]
  },
  {
   "cell_type": "code",
   "execution_count": 13,
   "metadata": {},
   "outputs": [
    {
     "name": "stderr",
     "output_type": "stream",
     "text": [
      "Clipping input data to the valid range for imshow with RGB data ([0..1] for floats or [0..255] for integers).\n"
     ]
    },
    {
     "name": "stdout",
     "output_type": "stream",
     "text": [
      "<built-in method type of Tensor object at 0x7f9f13172f78>\n",
      "torch.Size([64, 1, 28, 28])\n"
     ]
    },
    {
     "data": {
      "text/plain": [
       "array([[9, 3, 4, 4, 0, 1, 1, 7],\n",
       "       [0, 3, 0, 9, 0, 3, 4, 0],\n",
       "       [1, 3, 3, 8, 4, 9, 2, 8],\n",
       "       [6, 3, 7, 9, 3, 2, 8, 2],\n",
       "       [9, 1, 8, 9, 2, 8, 8, 1],\n",
       "       [9, 2, 7, 0, 4, 2, 8, 3],\n",
       "       [6, 3, 3, 1, 9, 3, 4, 9],\n",
       "       [5, 7, 5, 0, 2, 7, 1, 1]])"
      ]
     },
     "execution_count": 13,
     "metadata": {},
     "output_type": "execute_result"
    },
    {
     "data": {
      "image/png": "[encoded data removed]",
      "text/plain": [
       "<Figure size 432x288 with 1 Axes>"
      ]
     },
     "metadata": {
      "needs_background": "light"
     },
     "output_type": "display_data"
    }
   ],
   "source": [
    "import matplotlib.pyplot as plt\n",
    "import numpy as np\n",
    "import torchvision \n",
    "\n",
    "def imshow(img):\n",
    "    img = img / 2 + 0.5     # unnormalize\n",
    "    npimg = img.numpy()\n",
    "    plt.imshow(np.transpose(npimg, (1, 2, 0)))\n",
    "\n",
    "# get some random training images\n",
    "data_iter = iter(train_loader)\n",
    "\n",
    "images, labels = data_iter.next()\n",
    "# show images\n",
    "print(images.type)\n",
    "print(images.shape)\n",
    "imshow(torchvision.utils.make_grid(images))\n",
    "\n",
    "# print labels\n",
    "batch_lables = [classes[labels[j]] for j in range(batch_size)]\n",
    "batch_lables = np.array(batch_lables)\n",
    "batch_lables.reshape(8,8)"
   ]
  },
  {
   "cell_type": "code",
   "execution_count": 76,
   "metadata": {},
   "outputs": [],
   "source": [
    "## network and optimizer\n",
    "if dataset == 'mnist':\n",
    "    num_inputs = 784\n",
    "elif dataset == 'cifar10':\n",
    "    num_inputs = 3072\n",
    "\n",
    "num_outputs = 10 # same for both CIFAR10 and MNIST, both have 10 classes as outputs\n",
    "\n",
    "class Net(nn.Module):\n",
    "    def __init__(self, num_inputs, num_outputs):\n",
    "        super(Net, self).__init__()\n",
    "        self.linear = nn.Linear(num_inputs, num_outputs)\n",
    "\n",
    "    def forward(self, input):\n",
    "        input = input.view(-1, num_inputs) # reshape input to batch x num_inputs\n",
    "        output = self.linear(input)\n",
    "        return output\n",
    "\n",
    "network = Net(num_inputs, num_outputs)\n",
    "optimizer = optim.SGD(network.parameters(), lr=lr)"
   ]
  },
  {
   "cell_type": "code",
   "execution_count": 77,
   "metadata": {},
   "outputs": [],
   "source": [
    "def train(epoch):\n",
    "    network.train()\n",
    "    for batch_idx, (data, target) in enumerate(train_loader):\n",
    "        data, target = Variable(data), Variable(target)\n",
    "        optimizer.zero_grad()\n",
    "        output = network(data)\n",
    "        loss = F.cross_entropy(output, target)\n",
    "        loss.backward()\n",
    "        optimizer.step()\n",
    "        if batch_idx % 100 == 0:\n",
    "            print('Train Epoch: {} [{}/{} ({:.0f}%)]\\tLoss: {:.6f}'.format(\n",
    "                epoch, batch_idx * len(data), len(train_loader.dataset),\n",
    "                100. * batch_idx / len(train_loader), loss.data[0]))\n",
    "\n",
    "def test():\n",
    "    network.eval()\n",
    "    test_loss = 0\n",
    "    correct = 0\n",
    "    for data, target in test_loader:\n",
    "        data, target = Variable(data, volatile=True), Variable(target)\n",
    "        output = network(data)\n",
    "        test_loss += F.cross_entropy(output, target, size_average=False).data[0] # sum up batch loss\n",
    "        pred = output.data.max(1, keepdim=True)[1] # get the index of the max log-probability\n",
    "        correct += pred.eq(target.data.view_as(pred)).cpu().sum()\n",
    "\n",
    "    test_loss /= len(test_loader.dataset)\n",
    "    print('\\nTest set: Average loss: {:.4f}, Accuracy: {}/{} ({:.0f}%)\\n'.format(\n",
    "        test_loss, correct, len(test_loader.dataset),\n",
    "        100. * correct / len(test_loader.dataset)))\n",
    "\n",
    "\n"
   ]
  },
  {
   "cell_type": "code",
   "execution_count": 78,
   "metadata": {
    "scrolled": true
   },
   "outputs": [
    {
     "name": "stderr",
     "output_type": "stream",
     "text": [
      "/home/riken/NYU/Fall18/computer_vision/cv-env/lib/python3.6/site-packages/ipykernel_launcher.py:13: UserWarning: invalid index of a 0-dim tensor. This will be an error in PyTorch 0.5. Use tensor.item() to convert a 0-dim tensor to a Python number\n",
      "  del sys.path[0]\n"
     ]
    },
    {
     "name": "stdout",
     "output_type": "stream",
     "text": [
      "Train Epoch: 1 [0/50000 (0%)]\tLoss: 2.329983\n",
      "Train Epoch: 1 [6400/50000 (13%)]\tLoss: 1.866238\n",
      "Train Epoch: 1 [12800/50000 (26%)]\tLoss: 1.786039\n",
      "Train Epoch: 1 [19200/50000 (38%)]\tLoss: 1.756376\n",
      "Train Epoch: 1 [25600/50000 (51%)]\tLoss: 2.036746\n",
      "Train Epoch: 1 [32000/50000 (64%)]\tLoss: 1.922229\n",
      "Train Epoch: 1 [38400/50000 (77%)]\tLoss: 1.818386\n",
      "Train Epoch: 1 [44800/50000 (90%)]\tLoss: 1.725936\n"
     ]
    },
    {
     "name": "stderr",
     "output_type": "stream",
     "text": [
      "/home/riken/NYU/Fall18/computer_vision/cv-env/lib/python3.6/site-packages/ipykernel_launcher.py:20: UserWarning: volatile was removed and now has no effect. Use `with torch.no_grad():` instead.\n",
      "/home/riken/NYU/Fall18/computer_vision/cv-env/lib/python3.6/site-packages/torch/nn/functional.py:52: UserWarning: size_average and reduce args will be deprecated, please use reduction='sum' instead.\n",
      "  warnings.warn(warning.format(ret))\n",
      "/home/riken/NYU/Fall18/computer_vision/cv-env/lib/python3.6/site-packages/ipykernel_launcher.py:22: UserWarning: invalid index of a 0-dim tensor. This will be an error in PyTorch 0.5. Use tensor.item() to convert a 0-dim tensor to a Python number\n"
     ]
    },
    {
     "name": "stdout",
     "output_type": "stream",
     "text": [
      "\n",
      "Test set: Average loss: 1.8030, Accuracy: 3660/10000 (36%)\n",
      "\n",
      "Train Epoch: 2 [0/50000 (0%)]\tLoss: 1.632316\n",
      "Train Epoch: 2 [6400/50000 (13%)]\tLoss: 1.764532\n",
      "Train Epoch: 2 [12800/50000 (26%)]\tLoss: 1.817577\n",
      "Train Epoch: 2 [19200/50000 (38%)]\tLoss: 1.733942\n",
      "Train Epoch: 2 [25600/50000 (51%)]\tLoss: 1.962660\n",
      "Train Epoch: 2 [32000/50000 (64%)]\tLoss: 2.002954\n",
      "Train Epoch: 2 [38400/50000 (77%)]\tLoss: 1.714506\n",
      "Train Epoch: 2 [44800/50000 (90%)]\tLoss: 1.845220\n",
      "\n",
      "Test set: Average loss: 1.7612, Accuracy: 3887/10000 (38%)\n",
      "\n",
      "Train Epoch: 3 [0/50000 (0%)]\tLoss: 1.732350\n",
      "Train Epoch: 3 [6400/50000 (13%)]\tLoss: 1.627617\n",
      "Train Epoch: 3 [12800/50000 (26%)]\tLoss: 1.599776\n",
      "Train Epoch: 3 [19200/50000 (38%)]\tLoss: 1.664687\n",
      "Train Epoch: 3 [25600/50000 (51%)]\tLoss: 1.461879\n",
      "Train Epoch: 3 [32000/50000 (64%)]\tLoss: 1.675507\n",
      "Train Epoch: 3 [38400/50000 (77%)]\tLoss: 1.672836\n",
      "Train Epoch: 3 [44800/50000 (90%)]\tLoss: 1.454496\n",
      "\n",
      "Test set: Average loss: 1.7418, Accuracy: 3983/10000 (39%)\n",
      "\n",
      "Train Epoch: 4 [0/50000 (0%)]\tLoss: 1.810113\n",
      "Train Epoch: 4 [6400/50000 (13%)]\tLoss: 1.676698\n",
      "Train Epoch: 4 [12800/50000 (26%)]\tLoss: 1.617183\n",
      "Train Epoch: 4 [19200/50000 (38%)]\tLoss: 1.734139\n",
      "Train Epoch: 4 [25600/50000 (51%)]\tLoss: 1.617405\n",
      "Train Epoch: 4 [32000/50000 (64%)]\tLoss: 1.670349\n",
      "Train Epoch: 4 [38400/50000 (77%)]\tLoss: 1.833553\n",
      "Train Epoch: 4 [44800/50000 (90%)]\tLoss: 1.701941\n",
      "\n",
      "Test set: Average loss: 1.7389, Accuracy: 3955/10000 (39%)\n",
      "\n",
      "Train Epoch: 5 [0/50000 (0%)]\tLoss: 1.710938\n",
      "Train Epoch: 5 [6400/50000 (13%)]\tLoss: 1.744823\n",
      "Train Epoch: 5 [12800/50000 (26%)]\tLoss: 1.793318\n",
      "Train Epoch: 5 [19200/50000 (38%)]\tLoss: 1.823998\n",
      "Train Epoch: 5 [25600/50000 (51%)]\tLoss: 1.724935\n",
      "Train Epoch: 5 [32000/50000 (64%)]\tLoss: 1.894592\n",
      "Train Epoch: 5 [38400/50000 (77%)]\tLoss: 1.708559\n",
      "Train Epoch: 5 [44800/50000 (90%)]\tLoss: 1.645219\n",
      "\n",
      "Test set: Average loss: 1.7314, Accuracy: 3992/10000 (39%)\n",
      "\n",
      "Train Epoch: 6 [0/50000 (0%)]\tLoss: 1.723716\n",
      "Train Epoch: 6 [6400/50000 (13%)]\tLoss: 1.662184\n",
      "Train Epoch: 6 [12800/50000 (26%)]\tLoss: 1.621243\n",
      "Train Epoch: 6 [19200/50000 (38%)]\tLoss: 1.642451\n",
      "Train Epoch: 6 [25600/50000 (51%)]\tLoss: 1.708387\n",
      "Train Epoch: 6 [32000/50000 (64%)]\tLoss: 1.738798\n",
      "Train Epoch: 6 [38400/50000 (77%)]\tLoss: 1.592043\n",
      "Train Epoch: 6 [44800/50000 (90%)]\tLoss: 1.913735\n",
      "\n",
      "Test set: Average loss: 1.7585, Accuracy: 3828/10000 (38%)\n",
      "\n",
      "Train Epoch: 7 [0/50000 (0%)]\tLoss: 2.019266\n",
      "Train Epoch: 7 [6400/50000 (13%)]\tLoss: 1.512138\n",
      "Train Epoch: 7 [12800/50000 (26%)]\tLoss: 1.573897\n",
      "Train Epoch: 7 [19200/50000 (38%)]\tLoss: 1.652472\n",
      "Train Epoch: 7 [25600/50000 (51%)]\tLoss: 1.608179\n",
      "Train Epoch: 7 [32000/50000 (64%)]\tLoss: 1.881495\n",
      "Train Epoch: 7 [38400/50000 (77%)]\tLoss: 1.628020\n",
      "Train Epoch: 7 [44800/50000 (90%)]\tLoss: 1.463667\n",
      "\n",
      "Test set: Average loss: 1.7278, Accuracy: 4021/10000 (40%)\n",
      "\n",
      "Train Epoch: 8 [0/50000 (0%)]\tLoss: 1.392379\n",
      "Train Epoch: 8 [6400/50000 (13%)]\tLoss: 1.552209\n"
     ]
    },
    {
     "ename": "KeyboardInterrupt",
     "evalue": "",
     "output_type": "error",
     "traceback": [
      "\u001b[0;31m---------------------------------------------------------------------------\u001b[0m",
      "\u001b[0;31mKeyboardInterrupt\u001b[0m                         Traceback (most recent call last)",
      "\u001b[0;32m<ipython-input-78-74a6f3afabd7>\u001b[0m in \u001b[0;36m<module>\u001b[0;34m()\u001b[0m\n\u001b[1;32m      1\u001b[0m \u001b[0;32mfor\u001b[0m \u001b[0mepoch\u001b[0m \u001b[0;32min\u001b[0m \u001b[0mrange\u001b[0m\u001b[0;34m(\u001b[0m\u001b[0;36m1\u001b[0m\u001b[0;34m,\u001b[0m \u001b[0mepochs\u001b[0m \u001b[0;34m+\u001b[0m \u001b[0;36m1\u001b[0m\u001b[0;34m)\u001b[0m\u001b[0;34m:\u001b[0m\u001b[0;34m\u001b[0m\u001b[0m\n\u001b[0;32m----> 2\u001b[0;31m     \u001b[0mtrain\u001b[0m\u001b[0;34m(\u001b[0m\u001b[0mepoch\u001b[0m\u001b[0;34m)\u001b[0m\u001b[0;34m\u001b[0m\u001b[0m\n\u001b[0m\u001b[1;32m      3\u001b[0m     \u001b[0mtest\u001b[0m\u001b[0;34m(\u001b[0m\u001b[0;34m)\u001b[0m\u001b[0;34m\u001b[0m\u001b[0m\n",
      "\u001b[0;32m<ipython-input-77-51ac589e0c57>\u001b[0m in \u001b[0;36mtrain\u001b[0;34m(epoch)\u001b[0m\n\u001b[1;32m      1\u001b[0m \u001b[0;32mdef\u001b[0m \u001b[0mtrain\u001b[0m\u001b[0;34m(\u001b[0m\u001b[0mepoch\u001b[0m\u001b[0;34m)\u001b[0m\u001b[0;34m:\u001b[0m\u001b[0;34m\u001b[0m\u001b[0m\n\u001b[1;32m      2\u001b[0m     \u001b[0mnetwork\u001b[0m\u001b[0;34m.\u001b[0m\u001b[0mtrain\u001b[0m\u001b[0;34m(\u001b[0m\u001b[0;34m)\u001b[0m\u001b[0;34m\u001b[0m\u001b[0m\n\u001b[0;32m----> 3\u001b[0;31m     \u001b[0;32mfor\u001b[0m \u001b[0mbatch_idx\u001b[0m\u001b[0;34m,\u001b[0m \u001b[0;34m(\u001b[0m\u001b[0mdata\u001b[0m\u001b[0;34m,\u001b[0m \u001b[0mtarget\u001b[0m\u001b[0;34m)\u001b[0m \u001b[0;32min\u001b[0m \u001b[0menumerate\u001b[0m\u001b[0;34m(\u001b[0m\u001b[0mtrain_loader\u001b[0m\u001b[0;34m)\u001b[0m\u001b[0;34m:\u001b[0m\u001b[0;34m\u001b[0m\u001b[0m\n\u001b[0m\u001b[1;32m      4\u001b[0m         \u001b[0mdata\u001b[0m\u001b[0;34m,\u001b[0m \u001b[0mtarget\u001b[0m \u001b[0;34m=\u001b[0m \u001b[0mVariable\u001b[0m\u001b[0;34m(\u001b[0m\u001b[0mdata\u001b[0m\u001b[0;34m)\u001b[0m\u001b[0;34m,\u001b[0m \u001b[0mVariable\u001b[0m\u001b[0;34m(\u001b[0m\u001b[0mtarget\u001b[0m\u001b[0;34m)\u001b[0m\u001b[0;34m\u001b[0m\u001b[0m\n\u001b[1;32m      5\u001b[0m         \u001b[0moptimizer\u001b[0m\u001b[0;34m.\u001b[0m\u001b[0mzero_grad\u001b[0m\u001b[0;34m(\u001b[0m\u001b[0;34m)\u001b[0m\u001b[0;34m\u001b[0m\u001b[0m\n",
      "\u001b[0;32m~/NYU/Fall18/computer_vision/cv-env/lib/python3.6/site-packages/torch/utils/data/dataloader.py\u001b[0m in \u001b[0;36m__next__\u001b[0;34m(self)\u001b[0m\n\u001b[1;32m    312\u001b[0m         \u001b[0;32mif\u001b[0m \u001b[0mself\u001b[0m\u001b[0;34m.\u001b[0m\u001b[0mnum_workers\u001b[0m \u001b[0;34m==\u001b[0m \u001b[0;36m0\u001b[0m\u001b[0;34m:\u001b[0m  \u001b[0;31m# same-process loading\u001b[0m\u001b[0;34m\u001b[0m\u001b[0m\n\u001b[1;32m    313\u001b[0m             \u001b[0mindices\u001b[0m \u001b[0;34m=\u001b[0m \u001b[0mnext\u001b[0m\u001b[0;34m(\u001b[0m\u001b[0mself\u001b[0m\u001b[0;34m.\u001b[0m\u001b[0msample_iter\u001b[0m\u001b[0;34m)\u001b[0m  \u001b[0;31m# may raise StopIteration\u001b[0m\u001b[0;34m\u001b[0m\u001b[0m\n\u001b[0;32m--> 314\u001b[0;31m             \u001b[0mbatch\u001b[0m \u001b[0;34m=\u001b[0m \u001b[0mself\u001b[0m\u001b[0;34m.\u001b[0m\u001b[0mcollate_fn\u001b[0m\u001b[0;34m(\u001b[0m\u001b[0;34m[\u001b[0m\u001b[0mself\u001b[0m\u001b[0;34m.\u001b[0m\u001b[0mdataset\u001b[0m\u001b[0;34m[\u001b[0m\u001b[0mi\u001b[0m\u001b[0;34m]\u001b[0m \u001b[0;32mfor\u001b[0m \u001b[0mi\u001b[0m \u001b[0;32min\u001b[0m \u001b[0mindices\u001b[0m\u001b[0;34m]\u001b[0m\u001b[0;34m)\u001b[0m\u001b[0;34m\u001b[0m\u001b[0m\n\u001b[0m\u001b[1;32m    315\u001b[0m             \u001b[0;32mif\u001b[0m \u001b[0mself\u001b[0m\u001b[0;34m.\u001b[0m\u001b[0mpin_memory\u001b[0m\u001b[0;34m:\u001b[0m\u001b[0;34m\u001b[0m\u001b[0m\n\u001b[1;32m    316\u001b[0m                 \u001b[0mbatch\u001b[0m \u001b[0;34m=\u001b[0m \u001b[0mpin_memory_batch\u001b[0m\u001b[0;34m(\u001b[0m\u001b[0mbatch\u001b[0m\u001b[0;34m)\u001b[0m\u001b[0;34m\u001b[0m\u001b[0m\n",
      "\u001b[0;32m~/NYU/Fall18/computer_vision/cv-env/lib/python3.6/site-packages/torch/utils/data/dataloader.py\u001b[0m in \u001b[0;36m<listcomp>\u001b[0;34m(.0)\u001b[0m\n\u001b[1;32m    312\u001b[0m         \u001b[0;32mif\u001b[0m \u001b[0mself\u001b[0m\u001b[0;34m.\u001b[0m\u001b[0mnum_workers\u001b[0m \u001b[0;34m==\u001b[0m \u001b[0;36m0\u001b[0m\u001b[0;34m:\u001b[0m  \u001b[0;31m# same-process loading\u001b[0m\u001b[0;34m\u001b[0m\u001b[0m\n\u001b[1;32m    313\u001b[0m             \u001b[0mindices\u001b[0m \u001b[0;34m=\u001b[0m \u001b[0mnext\u001b[0m\u001b[0;34m(\u001b[0m\u001b[0mself\u001b[0m\u001b[0;34m.\u001b[0m\u001b[0msample_iter\u001b[0m\u001b[0;34m)\u001b[0m  \u001b[0;31m# may raise StopIteration\u001b[0m\u001b[0;34m\u001b[0m\u001b[0m\n\u001b[0;32m--> 314\u001b[0;31m             \u001b[0mbatch\u001b[0m \u001b[0;34m=\u001b[0m \u001b[0mself\u001b[0m\u001b[0;34m.\u001b[0m\u001b[0mcollate_fn\u001b[0m\u001b[0;34m(\u001b[0m\u001b[0;34m[\u001b[0m\u001b[0mself\u001b[0m\u001b[0;34m.\u001b[0m\u001b[0mdataset\u001b[0m\u001b[0;34m[\u001b[0m\u001b[0mi\u001b[0m\u001b[0;34m]\u001b[0m \u001b[0;32mfor\u001b[0m \u001b[0mi\u001b[0m \u001b[0;32min\u001b[0m \u001b[0mindices\u001b[0m\u001b[0;34m]\u001b[0m\u001b[0;34m)\u001b[0m\u001b[0;34m\u001b[0m\u001b[0m\n\u001b[0m\u001b[1;32m    315\u001b[0m             \u001b[0;32mif\u001b[0m \u001b[0mself\u001b[0m\u001b[0;34m.\u001b[0m\u001b[0mpin_memory\u001b[0m\u001b[0;34m:\u001b[0m\u001b[0;34m\u001b[0m\u001b[0m\n\u001b[1;32m    316\u001b[0m                 \u001b[0mbatch\u001b[0m \u001b[0;34m=\u001b[0m \u001b[0mpin_memory_batch\u001b[0m\u001b[0;34m(\u001b[0m\u001b[0mbatch\u001b[0m\u001b[0;34m)\u001b[0m\u001b[0;34m\u001b[0m\u001b[0m\n",
      "\u001b[0;32m~/NYU/Fall18/computer_vision/cv-env/lib/python3.6/site-packages/torchvision/datasets/cifar.py\u001b[0m in \u001b[0;36m__getitem__\u001b[0;34m(self, index)\u001b[0m\n\u001b[1;32m    116\u001b[0m         \u001b[0;31m# doing this so that it is consistent with all other datasets\u001b[0m\u001b[0;34m\u001b[0m\u001b[0;34m\u001b[0m\u001b[0m\n\u001b[1;32m    117\u001b[0m         \u001b[0;31m# to return a PIL Image\u001b[0m\u001b[0;34m\u001b[0m\u001b[0;34m\u001b[0m\u001b[0m\n\u001b[0;32m--> 118\u001b[0;31m         \u001b[0mimg\u001b[0m \u001b[0;34m=\u001b[0m \u001b[0mImage\u001b[0m\u001b[0;34m.\u001b[0m\u001b[0mfromarray\u001b[0m\u001b[0;34m(\u001b[0m\u001b[0mimg\u001b[0m\u001b[0;34m)\u001b[0m\u001b[0;34m\u001b[0m\u001b[0m\n\u001b[0m\u001b[1;32m    119\u001b[0m \u001b[0;34m\u001b[0m\u001b[0m\n\u001b[1;32m    120\u001b[0m         \u001b[0;32mif\u001b[0m \u001b[0mself\u001b[0m\u001b[0;34m.\u001b[0m\u001b[0mtransform\u001b[0m \u001b[0;32mis\u001b[0m \u001b[0;32mnot\u001b[0m \u001b[0;32mNone\u001b[0m\u001b[0;34m:\u001b[0m\u001b[0;34m\u001b[0m\u001b[0m\n",
      "\u001b[0;32m~/NYU/Fall18/computer_vision/cv-env/lib/python3.6/site-packages/PIL/Image.py\u001b[0m in \u001b[0;36mfromarray\u001b[0;34m(obj, mode)\u001b[0m\n\u001b[1;32m   2480\u001b[0m             \u001b[0mobj\u001b[0m \u001b[0;34m=\u001b[0m \u001b[0mobj\u001b[0m\u001b[0;34m.\u001b[0m\u001b[0mtostring\u001b[0m\u001b[0;34m(\u001b[0m\u001b[0;34m)\u001b[0m\u001b[0;34m\u001b[0m\u001b[0m\n\u001b[1;32m   2481\u001b[0m \u001b[0;34m\u001b[0m\u001b[0m\n\u001b[0;32m-> 2482\u001b[0;31m     \u001b[0;32mreturn\u001b[0m \u001b[0mfrombuffer\u001b[0m\u001b[0;34m(\u001b[0m\u001b[0mmode\u001b[0m\u001b[0;34m,\u001b[0m \u001b[0msize\u001b[0m\u001b[0;34m,\u001b[0m \u001b[0mobj\u001b[0m\u001b[0;34m,\u001b[0m \u001b[0;34m\"raw\"\u001b[0m\u001b[0;34m,\u001b[0m \u001b[0mrawmode\u001b[0m\u001b[0;34m,\u001b[0m \u001b[0;36m0\u001b[0m\u001b[0;34m,\u001b[0m \u001b[0;36m1\u001b[0m\u001b[0;34m)\u001b[0m\u001b[0;34m\u001b[0m\u001b[0m\n\u001b[0m\u001b[1;32m   2483\u001b[0m \u001b[0;34m\u001b[0m\u001b[0m\n\u001b[1;32m   2484\u001b[0m \u001b[0;34m\u001b[0m\u001b[0m\n",
      "\u001b[0;32m~/NYU/Fall18/computer_vision/cv-env/lib/python3.6/site-packages/PIL/Image.py\u001b[0m in \u001b[0;36mfrombuffer\u001b[0;34m(mode, size, data, decoder_name, *args)\u001b[0m\n\u001b[1;32m   2433\u001b[0m             \u001b[0;32mreturn\u001b[0m \u001b[0mim\u001b[0m\u001b[0;34m\u001b[0m\u001b[0m\n\u001b[1;32m   2434\u001b[0m \u001b[0;34m\u001b[0m\u001b[0m\n\u001b[0;32m-> 2435\u001b[0;31m     \u001b[0;32mreturn\u001b[0m \u001b[0mfrombytes\u001b[0m\u001b[0;34m(\u001b[0m\u001b[0mmode\u001b[0m\u001b[0;34m,\u001b[0m \u001b[0msize\u001b[0m\u001b[0;34m,\u001b[0m \u001b[0mdata\u001b[0m\u001b[0;34m,\u001b[0m \u001b[0mdecoder_name\u001b[0m\u001b[0;34m,\u001b[0m \u001b[0margs\u001b[0m\u001b[0;34m)\u001b[0m\u001b[0;34m\u001b[0m\u001b[0m\n\u001b[0m\u001b[1;32m   2436\u001b[0m \u001b[0;34m\u001b[0m\u001b[0m\n\u001b[1;32m   2437\u001b[0m \u001b[0;34m\u001b[0m\u001b[0m\n",
      "\u001b[0;32m~/NYU/Fall18/computer_vision/cv-env/lib/python3.6/site-packages/PIL/Image.py\u001b[0m in \u001b[0;36mfrombytes\u001b[0;34m(mode, size, data, decoder_name, *args)\u001b[0m\n\u001b[1;32m   2366\u001b[0m \u001b[0;34m\u001b[0m\u001b[0m\n\u001b[1;32m   2367\u001b[0m     \u001b[0mim\u001b[0m \u001b[0;34m=\u001b[0m \u001b[0mnew\u001b[0m\u001b[0;34m(\u001b[0m\u001b[0mmode\u001b[0m\u001b[0;34m,\u001b[0m \u001b[0msize\u001b[0m\u001b[0;34m)\u001b[0m\u001b[0;34m\u001b[0m\u001b[0m\n\u001b[0;32m-> 2368\u001b[0;31m     \u001b[0mim\u001b[0m\u001b[0;34m.\u001b[0m\u001b[0mfrombytes\u001b[0m\u001b[0;34m(\u001b[0m\u001b[0mdata\u001b[0m\u001b[0;34m,\u001b[0m \u001b[0mdecoder_name\u001b[0m\u001b[0;34m,\u001b[0m \u001b[0margs\u001b[0m\u001b[0;34m)\u001b[0m\u001b[0;34m\u001b[0m\u001b[0m\n\u001b[0m\u001b[1;32m   2369\u001b[0m     \u001b[0;32mreturn\u001b[0m \u001b[0mim\u001b[0m\u001b[0;34m\u001b[0m\u001b[0m\n\u001b[1;32m   2370\u001b[0m \u001b[0;34m\u001b[0m\u001b[0m\n",
      "\u001b[0;32m~/NYU/Fall18/computer_vision/cv-env/lib/python3.6/site-packages/PIL/Image.py\u001b[0m in \u001b[0;36mfrombytes\u001b[0;34m(self, data, decoder_name, *args)\u001b[0m\n\u001b[1;32m    794\u001b[0m         \u001b[0md\u001b[0m \u001b[0;34m=\u001b[0m \u001b[0m_getdecoder\u001b[0m\u001b[0;34m(\u001b[0m\u001b[0mself\u001b[0m\u001b[0;34m.\u001b[0m\u001b[0mmode\u001b[0m\u001b[0;34m,\u001b[0m \u001b[0mdecoder_name\u001b[0m\u001b[0;34m,\u001b[0m \u001b[0margs\u001b[0m\u001b[0;34m)\u001b[0m\u001b[0;34m\u001b[0m\u001b[0m\n\u001b[1;32m    795\u001b[0m         \u001b[0md\u001b[0m\u001b[0;34m.\u001b[0m\u001b[0msetimage\u001b[0m\u001b[0;34m(\u001b[0m\u001b[0mself\u001b[0m\u001b[0;34m.\u001b[0m\u001b[0mim\u001b[0m\u001b[0;34m)\u001b[0m\u001b[0;34m\u001b[0m\u001b[0m\n\u001b[0;32m--> 796\u001b[0;31m         \u001b[0ms\u001b[0m \u001b[0;34m=\u001b[0m \u001b[0md\u001b[0m\u001b[0;34m.\u001b[0m\u001b[0mdecode\u001b[0m\u001b[0;34m(\u001b[0m\u001b[0mdata\u001b[0m\u001b[0;34m)\u001b[0m\u001b[0;34m\u001b[0m\u001b[0m\n\u001b[0m\u001b[1;32m    797\u001b[0m \u001b[0;34m\u001b[0m\u001b[0m\n\u001b[1;32m    798\u001b[0m         \u001b[0;32mif\u001b[0m \u001b[0ms\u001b[0m\u001b[0;34m[\u001b[0m\u001b[0;36m0\u001b[0m\u001b[0;34m]\u001b[0m \u001b[0;34m>=\u001b[0m \u001b[0;36m0\u001b[0m\u001b[0;34m:\u001b[0m\u001b[0;34m\u001b[0m\u001b[0m\n",
      "\u001b[0;31mKeyboardInterrupt\u001b[0m: "
     ]
    }
   ],
   "source": [
    "for epoch in range(1, epochs + 1):\n",
    "    train(epoch)\n",
    "    test()"
   ]
  },
  {
   "cell_type": "code",
   "execution_count": 17,
   "metadata": {},
   "outputs": [],
   "source": [
    "# plot out the network weights as images\n",
    "def vistensor(tensor, ch=0, allkernels=True, nrow=10, padding=1): \n",
    "    '''\n",
    "    vistensor: visuzlization tensor\n",
    "        @ch: visualization channel \n",
    "        @allkernels: visualization all tensores\n",
    "    ''' \n",
    "    \n",
    "    n,c,w,h = tensor.shape\n",
    "    if allkernels: tensor = tensor.view(n*c,-1,w,h )\n",
    "    elif c != 3: tensor = tensor[:,ch,:,:].unsqueeze(dim=1)\n",
    "        \n",
    "    rows = np.min( (tensor.shape[0]//nrow + 1, 64 )  )    \n",
    "    grid = torchvision.utils.make_grid(tensor, nrow=nrow, normalize=True, padding=padding)\n",
    "    plt.figure( figsize=(nrow,rows) )\n",
    "    plt.imshow(grid.numpy().transpose((1, 2, 0)))\n",
    "\n",
    "def savetensor(tensor, filename, ch=0, allkernels=False, nrow=10, padding=2):\n",
    "    '''\n",
    "    savetensor: save tensor\n",
    "        @filename: file name\n",
    "        @ch: visualization channel \n",
    "        @allkernels: visualization all tensores\n",
    "    '''    \n",
    "\n",
    "    n,c,w,h = tensor.shape\n",
    "    if allkernels: tensor = tensor.view(n*c,-1,w,h )\n",
    "    elif c != 3: tensor = tensor[:,ch,:,:].unsqueeze(dim=1)    \n",
    "    torchvision.utils.save_image(tensor, filename, nrow=nrow )"
   ]
  },
  {
   "cell_type": "code",
   "execution_count": 18,
   "metadata": {
    "scrolled": true
   },
   "outputs": [
    {
     "data": {
      "image/png": "[encoded data removed]",
      "text/plain": [
       "<Figure size 720x144 with 1 Axes>"
      ]
     },
     "metadata": {
      "needs_background": "light"
     },
     "output_type": "display_data"
    }
   ],
   "source": [
    "# print(network.state_dict().keys())\n",
    "linear_weights = network.state_dict()['linear.weight']\n",
    "# print(linear_weights.size())\n",
    "\n",
    "weights = torch.reshape(linear_weights,(10,1,28,28))\n",
    "# print(weights.size())\n",
    "\n",
    "vistensor(weights, ch=0, allkernels=True)\n",
    "savetensor(weights,'linear_weights.png', allkernels=True)"
   ]
  },
  {
   "cell_type": "markdown",
   "metadata": {},
   "source": [
    "**Part 2**"
   ]
  },
  {
   "cell_type": "code",
   "execution_count": 29,
   "metadata": {},
   "outputs": [],
   "source": [
    "train_loader = torch.utils.data.DataLoader(trainset, batch_size=batch_size, shuffle=False, num_workers=0)\n",
    "test_loader  = torch.utils.data.DataLoader(testset, batch_size=batch_size, shuffle=False, num_workers=0)"
   ]
  },
  {
   "cell_type": "code",
   "execution_count": 30,
   "metadata": {},
   "outputs": [],
   "source": [
    "network_new = Net(num_inputs, num_outputs)\n",
    "optimizer_new = optim.SGD(network_new.parameters(), lr=lr)"
   ]
  },
  {
   "cell_type": "code",
   "execution_count": 31,
   "metadata": {},
   "outputs": [],
   "source": [
    "def train_new(epoch):\n",
    "    network_new.train()\n",
    "    for batch_idx, (data, target) in enumerate(train_loader):\n",
    "        data, target = Variable(data[:50]), Variable(target[:50])\n",
    "        optimizer_new.zero_grad()\n",
    "        output = network_new(data)\n",
    "        loss = F.cross_entropy(output, target)\n",
    "        loss.backward()\n",
    "        optimizer_new.step()\n",
    "        if batch_idx % 10 == 0:\n",
    "            print('Train Epoch: {} [{}/{} ({:.0f}%)]\\tLoss: {:.6f}'.format(\n",
    "                epoch, batch_idx * len(data), len(train_loader.dataset),\n",
    "                100. * batch_idx / len(train_loader), loss.data[0]))\n",
    "        if batch_idx == 0:\n",
    "            break\n",
    "\n",
    "def test_new():\n",
    "    network_new.eval()\n",
    "    test_loss = 0\n",
    "    correct = 0\n",
    "    for data, target in test_loader:\n",
    "        data, target = Variable(data, volatile=True), Variable(target)\n",
    "        output = network_new(data)\n",
    "        test_loss += F.cross_entropy(output, target, size_average=False).data[0] # sum up batch loss\n",
    "        pred = output.data.max(1, keepdim=True)[1] # get the index of the max log-probability\n",
    "        correct += pred.eq(target.data.view_as(pred)).cpu().sum()\n",
    "\n",
    "    test_loss /= len(test_loader.dataset)\n",
    "    print('\\nTest set: Average loss: {:.4f}, Accuracy: {}/{} ({:.0f}%)\\n'.format(\n",
    "        test_loss, correct, len(test_loader.dataset),\n",
    "        100. * correct / len(test_loader.dataset)))"
   ]
  },
  {
   "cell_type": "code",
   "execution_count": 32,
   "metadata": {},
   "outputs": [
    {
     "name": "stderr",
     "output_type": "stream",
     "text": [
      "/home/riken/NYU/Fall18/computer_vision/cv-env/lib/python3.6/site-packages/ipykernel_launcher.py:13: UserWarning: invalid index of a 0-dim tensor. This will be an error in PyTorch 0.5. Use tensor.item() to convert a 0-dim tensor to a Python number\n",
      "  del sys.path[0]\n",
      "/home/riken/NYU/Fall18/computer_vision/cv-env/lib/python3.6/site-packages/ipykernel_launcher.py:22: UserWarning: volatile was removed and now has no effect. Use `with torch.no_grad():` instead.\n",
      "/home/riken/NYU/Fall18/computer_vision/cv-env/lib/python3.6/site-packages/torch/nn/functional.py:52: UserWarning: size_average and reduce args will be deprecated, please use reduction='sum' instead.\n",
      "  warnings.warn(warning.format(ret))\n",
      "/home/riken/NYU/Fall18/computer_vision/cv-env/lib/python3.6/site-packages/ipykernel_launcher.py:24: UserWarning: invalid index of a 0-dim tensor. This will be an error in PyTorch 0.5. Use tensor.item() to convert a 0-dim tensor to a Python number\n"
     ]
    },
    {
     "name": "stdout",
     "output_type": "stream",
     "text": [
      "Train Epoch: 1 [0/60000 (0%)]\tLoss: 2.541266\n",
      "\n",
      "Test set: Average loss: 2.3420, Accuracy: 1126/10000 (11%)\n",
      "\n",
      "Train Epoch: 2 [0/60000 (0%)]\tLoss: 2.300703\n",
      "\n",
      "Test set: Average loss: 2.2306, Accuracy: 1712/10000 (17%)\n",
      "\n",
      "Train Epoch: 3 [0/60000 (0%)]\tLoss: 2.098751\n",
      "\n",
      "Test set: Average loss: 2.1348, Accuracy: 2449/10000 (24%)\n",
      "\n",
      "Train Epoch: 4 [0/60000 (0%)]\tLoss: 1.924993\n",
      "\n",
      "Test set: Average loss: 2.0503, Accuracy: 3122/10000 (31%)\n",
      "\n",
      "Train Epoch: 5 [0/60000 (0%)]\tLoss: 1.773217\n",
      "\n",
      "Test set: Average loss: 1.9749, Accuracy: 3683/10000 (36%)\n",
      "\n",
      "Train Epoch: 6 [0/60000 (0%)]\tLoss: 1.639289\n",
      "\n",
      "Test set: Average loss: 1.9074, Accuracy: 4115/10000 (41%)\n",
      "\n",
      "Train Epoch: 7 [0/60000 (0%)]\tLoss: 1.520330\n",
      "\n",
      "Test set: Average loss: 1.8468, Accuracy: 4465/10000 (44%)\n",
      "\n",
      "Train Epoch: 8 [0/60000 (0%)]\tLoss: 1.414183\n",
      "\n",
      "Test set: Average loss: 1.7924, Accuracy: 4714/10000 (47%)\n",
      "\n",
      "Train Epoch: 9 [0/60000 (0%)]\tLoss: 1.319127\n",
      "\n",
      "Test set: Average loss: 1.7433, Accuracy: 4919/10000 (49%)\n",
      "\n",
      "Train Epoch: 10 [0/60000 (0%)]\tLoss: 1.233727\n",
      "\n",
      "Test set: Average loss: 1.6990, Accuracy: 5101/10000 (51%)\n",
      "\n"
     ]
    }
   ],
   "source": [
    "for epoch in range(1, epochs + 1):\n",
    "    train_new(epoch)\n",
    "    test_new()"
   ]
  },
  {
   "cell_type": "code",
   "execution_count": 33,
   "metadata": {
    "scrolled": false
   },
   "outputs": [
    {
     "data": {
      "image/png": "[encoded data removed]",
      "text/plain": [
       "<Figure size 720x144 with 1 Axes>"
      ]
     },
     "metadata": {
      "needs_background": "light"
     },
     "output_type": "display_data"
    }
   ],
   "source": [
    "# print(network.state_dict().keys())\n",
    "linear_weights = network_new.state_dict()['linear.weight']\n",
    "# print(linear_weights.size())\n",
    "\n",
    "weights = torch.reshape(linear_weights,(10,1,28,28))\n",
    "# print(weights.size())\n",
    "\n",
    "vistensor(weights, ch=0, allkernels=True)\n",
    "savetensor(weights,'linear_weights_new.png', allkernels=True)"
   ]
  },
  {
   "cell_type": "markdown",
   "metadata": {},
   "source": [
    "**Part 3**"
   ]
  },
  {
   "cell_type": "code",
   "execution_count": 49,
   "metadata": {},
   "outputs": [],
   "source": [
    "## network and optimizer (Multi-Layer)\n",
    "if dataset == 'mnist':\n",
    "    num_inputs = 784\n",
    "elif dataset == 'cifar10':\n",
    "    num_inputs = 3072\n",
    "\n",
    "num_outputs = 10 # same for both CIFAR10 and MNIST, both have 10 classes as outputs\n",
    "hidden_layer_n = 1000\n",
    "\n",
    "class MultiLayerNet(nn.Module):\n",
    "    def __init__(self, num_inputs, num_outputs):\n",
    "        super(MultiLayerNet, self).__init__()\n",
    "        self.linear1 = nn.Linear(num_inputs, hidden_layer_n)\n",
    "        self.linear2 = nn.Linear(hidden_layer_n, num_outputs)\n",
    "\n",
    "    def forward(self, input):\n",
    "        input = input.view(-1, num_inputs) # reshape input to batch x num_inputs\n",
    "        output = self.linear1(input)\n",
    "        output = nn.functional.tanh(output)\n",
    "        output = self.linear2(output)\n",
    "        \n",
    "        return output\n",
    "\n",
    "multilayer_network = MultiLayerNet(num_inputs, num_outputs)\n",
    "multilayer_optimizer = optim.SGD(multilayer_network.parameters(), lr=lr)"
   ]
  },
  {
   "cell_type": "code",
   "execution_count": 50,
   "metadata": {},
   "outputs": [],
   "source": [
    "def train_ml(epoch):\n",
    "    multilayer_network.train()\n",
    "    for batch_idx, (data, target) in enumerate(train_loader):\n",
    "        data, target = Variable(data), Variable(target)\n",
    "        multilayer_optimizer.zero_grad()\n",
    "        output = multilayer_network(data)\n",
    "        loss = F.cross_entropy(output, target)\n",
    "        loss.backward()\n",
    "        multilayer_optimizer.step()\n",
    "        if batch_idx % 100 == 0:\n",
    "            print('Train Epoch: {} [{}/{} ({:.0f}%)]\\tLoss: {:.6f}'.format(\n",
    "                epoch, batch_idx * len(data), len(train_loader.dataset),\n",
    "                100. * batch_idx / len(train_loader), loss.data[0]))\n",
    "\n",
    "def test_ml():\n",
    "    multilayer_network.eval()\n",
    "    test_loss = 0\n",
    "    correct = 0\n",
    "    for data, target in test_loader:\n",
    "        data, target = Variable(data, volatile=True), Variable(target)\n",
    "        output = multilayer_network(data)\n",
    "        test_loss += F.cross_entropy(output, target, size_average=False).data[0] # sum up batch loss\n",
    "        pred = output.data.max(1, keepdim=True)[1] # get the index of the max log-probability\n",
    "        correct += pred.eq(target.data.view_as(pred)).cpu().sum()\n",
    "\n",
    "    test_loss /= len(test_loader.dataset)\n",
    "    print('\\nTest set: Average loss: {:.4f}, Accuracy: {}/{} ({:.0f}%)\\n'.format(\n",
    "        test_loss, correct, len(test_loader.dataset),\n",
    "        100. * correct / len(test_loader.dataset)))\n"
   ]
  },
  {
   "cell_type": "code",
   "execution_count": 51,
   "metadata": {},
   "outputs": [
    {
     "name": "stderr",
     "output_type": "stream",
     "text": [
      "/home/riken/NYU/Fall18/computer_vision/cv-env/lib/python3.6/site-packages/torch/nn/functional.py:995: UserWarning: nn.functional.tanh is deprecated. Use torch.tanh instead.\n",
      "  warnings.warn(\"nn.functional.tanh is deprecated. Use torch.tanh instead.\")\n",
      "/home/riken/NYU/Fall18/computer_vision/cv-env/lib/python3.6/site-packages/ipykernel_launcher.py:13: UserWarning: invalid index of a 0-dim tensor. This will be an error in PyTorch 0.5. Use tensor.item() to convert a 0-dim tensor to a Python number\n",
      "  del sys.path[0]\n"
     ]
    },
    {
     "name": "stdout",
     "output_type": "stream",
     "text": [
      "Train Epoch: 1 [0/60000 (0%)]\tLoss: 2.368009\n",
      "Train Epoch: 1 [6400/60000 (11%)]\tLoss: 0.639229\n",
      "Train Epoch: 1 [12800/60000 (21%)]\tLoss: 0.522380\n",
      "Train Epoch: 1 [19200/60000 (32%)]\tLoss: 0.482239\n",
      "Train Epoch: 1 [25600/60000 (43%)]\tLoss: 0.347429\n",
      "Train Epoch: 1 [32000/60000 (53%)]\tLoss: 0.425806\n",
      "Train Epoch: 1 [38400/60000 (64%)]\tLoss: 0.277817\n",
      "Train Epoch: 1 [44800/60000 (75%)]\tLoss: 0.455104\n",
      "Train Epoch: 1 [51200/60000 (85%)]\tLoss: 0.411125\n",
      "Train Epoch: 1 [57600/60000 (96%)]\tLoss: 0.431901\n"
     ]
    },
    {
     "name": "stderr",
     "output_type": "stream",
     "text": [
      "/home/riken/NYU/Fall18/computer_vision/cv-env/lib/python3.6/site-packages/ipykernel_launcher.py:20: UserWarning: volatile was removed and now has no effect. Use `with torch.no_grad():` instead.\n",
      "/home/riken/NYU/Fall18/computer_vision/cv-env/lib/python3.6/site-packages/torch/nn/functional.py:52: UserWarning: size_average and reduce args will be deprecated, please use reduction='sum' instead.\n",
      "  warnings.warn(warning.format(ret))\n",
      "/home/riken/NYU/Fall18/computer_vision/cv-env/lib/python3.6/site-packages/ipykernel_launcher.py:22: UserWarning: invalid index of a 0-dim tensor. This will be an error in PyTorch 0.5. Use tensor.item() to convert a 0-dim tensor to a Python number\n"
     ]
    },
    {
     "name": "stdout",
     "output_type": "stream",
     "text": [
      "\n",
      "Test set: Average loss: 0.3241, Accuracy: 9079/10000 (90%)\n",
      "\n",
      "Train Epoch: 2 [0/60000 (0%)]\tLoss: 0.271903\n",
      "Train Epoch: 2 [6400/60000 (11%)]\tLoss: 0.273489\n",
      "Train Epoch: 2 [12800/60000 (21%)]\tLoss: 0.261835\n",
      "Train Epoch: 2 [19200/60000 (32%)]\tLoss: 0.350308\n",
      "Train Epoch: 2 [25600/60000 (43%)]\tLoss: 0.233295\n",
      "Train Epoch: 2 [32000/60000 (53%)]\tLoss: 0.349252\n",
      "Train Epoch: 2 [38400/60000 (64%)]\tLoss: 0.209037\n",
      "Train Epoch: 2 [44800/60000 (75%)]\tLoss: 0.397713\n",
      "Train Epoch: 2 [51200/60000 (85%)]\tLoss: 0.343005\n",
      "Train Epoch: 2 [57600/60000 (96%)]\tLoss: 0.426413\n",
      "\n",
      "Test set: Average loss: 0.2819, Accuracy: 9198/10000 (91%)\n",
      "\n",
      "Train Epoch: 3 [0/60000 (0%)]\tLoss: 0.204663\n",
      "Train Epoch: 3 [6400/60000 (11%)]\tLoss: 0.248715\n",
      "Train Epoch: 3 [12800/60000 (21%)]\tLoss: 0.209896\n",
      "Train Epoch: 3 [19200/60000 (32%)]\tLoss: 0.304851\n",
      "Train Epoch: 3 [25600/60000 (43%)]\tLoss: 0.205887\n",
      "Train Epoch: 3 [32000/60000 (53%)]\tLoss: 0.320475\n",
      "Train Epoch: 3 [38400/60000 (64%)]\tLoss: 0.181163\n",
      "Train Epoch: 3 [44800/60000 (75%)]\tLoss: 0.372217\n",
      "Train Epoch: 3 [51200/60000 (85%)]\tLoss: 0.299294\n",
      "Train Epoch: 3 [57600/60000 (96%)]\tLoss: 0.412111\n",
      "\n",
      "Test set: Average loss: 0.2598, Accuracy: 9254/10000 (92%)\n",
      "\n",
      "Train Epoch: 4 [0/60000 (0%)]\tLoss: 0.171956\n",
      "Train Epoch: 4 [6400/60000 (11%)]\tLoss: 0.234144\n",
      "Train Epoch: 4 [12800/60000 (21%)]\tLoss: 0.183170\n",
      "Train Epoch: 4 [19200/60000 (32%)]\tLoss: 0.274520\n",
      "Train Epoch: 4 [25600/60000 (43%)]\tLoss: 0.190055\n",
      "Train Epoch: 4 [32000/60000 (53%)]\tLoss: 0.299692\n",
      "Train Epoch: 4 [38400/60000 (64%)]\tLoss: 0.160768\n",
      "Train Epoch: 4 [44800/60000 (75%)]\tLoss: 0.353099\n",
      "Train Epoch: 4 [51200/60000 (85%)]\tLoss: 0.260670\n",
      "Train Epoch: 4 [57600/60000 (96%)]\tLoss: 0.392747\n",
      "\n",
      "Test set: Average loss: 0.2422, Accuracy: 9311/10000 (93%)\n",
      "\n",
      "Train Epoch: 5 [0/60000 (0%)]\tLoss: 0.149495\n",
      "Train Epoch: 5 [6400/60000 (11%)]\tLoss: 0.220318\n",
      "Train Epoch: 5 [12800/60000 (21%)]\tLoss: 0.165467\n",
      "Train Epoch: 5 [19200/60000 (32%)]\tLoss: 0.249840\n",
      "Train Epoch: 5 [25600/60000 (43%)]\tLoss: 0.176356\n",
      "Train Epoch: 5 [32000/60000 (53%)]\tLoss: 0.281901\n",
      "Train Epoch: 5 [38400/60000 (64%)]\tLoss: 0.143669\n",
      "Train Epoch: 5 [44800/60000 (75%)]\tLoss: 0.336254\n",
      "Train Epoch: 5 [51200/60000 (85%)]\tLoss: 0.225813\n",
      "Train Epoch: 5 [57600/60000 (96%)]\tLoss: 0.372646\n",
      "\n",
      "Test set: Average loss: 0.2260, Accuracy: 9357/10000 (93%)\n",
      "\n",
      "Train Epoch: 6 [0/60000 (0%)]\tLoss: 0.131563\n",
      "Train Epoch: 6 [6400/60000 (11%)]\tLoss: 0.206192\n",
      "Train Epoch: 6 [12800/60000 (21%)]\tLoss: 0.152275\n",
      "Train Epoch: 6 [19200/60000 (32%)]\tLoss: 0.228054\n",
      "Train Epoch: 6 [25600/60000 (43%)]\tLoss: 0.163081\n",
      "Train Epoch: 6 [32000/60000 (53%)]\tLoss: 0.265617\n",
      "Train Epoch: 6 [38400/60000 (64%)]\tLoss: 0.129048\n",
      "Train Epoch: 6 [44800/60000 (75%)]\tLoss: 0.320636\n",
      "Train Epoch: 6 [51200/60000 (85%)]\tLoss: 0.196128\n",
      "Train Epoch: 6 [57600/60000 (96%)]\tLoss: 0.353900\n",
      "\n",
      "Test set: Average loss: 0.2107, Accuracy: 9404/10000 (94%)\n",
      "\n",
      "Train Epoch: 7 [0/60000 (0%)]\tLoss: 0.116438\n",
      "Train Epoch: 7 [6400/60000 (11%)]\tLoss: 0.192168\n",
      "Train Epoch: 7 [12800/60000 (21%)]\tLoss: 0.141876\n",
      "Train Epoch: 7 [19200/60000 (32%)]\tLoss: 0.208548\n",
      "Train Epoch: 7 [25600/60000 (43%)]\tLoss: 0.150254\n",
      "Train Epoch: 7 [32000/60000 (53%)]\tLoss: 0.250205\n",
      "Train Epoch: 7 [38400/60000 (64%)]\tLoss: 0.116717\n",
      "Train Epoch: 7 [44800/60000 (75%)]\tLoss: 0.305962\n",
      "Train Epoch: 7 [51200/60000 (85%)]\tLoss: 0.172888\n",
      "Train Epoch: 7 [57600/60000 (96%)]\tLoss: 0.337276\n",
      "\n",
      "Test set: Average loss: 0.1964, Accuracy: 9452/10000 (94%)\n",
      "\n",
      "Train Epoch: 8 [0/60000 (0%)]\tLoss: 0.103592\n",
      "Train Epoch: 8 [6400/60000 (11%)]\tLoss: 0.178868\n",
      "Train Epoch: 8 [12800/60000 (21%)]\tLoss: 0.133399\n",
      "Train Epoch: 8 [19200/60000 (32%)]\tLoss: 0.191232\n",
      "Train Epoch: 8 [25600/60000 (43%)]\tLoss: 0.138234\n",
      "Train Epoch: 8 [32000/60000 (53%)]\tLoss: 0.235468\n",
      "Train Epoch: 8 [38400/60000 (64%)]\tLoss: 0.106432\n",
      "Train Epoch: 8 [44800/60000 (75%)]\tLoss: 0.292106\n",
      "Train Epoch: 8 [51200/60000 (85%)]\tLoss: 0.155764\n",
      "Train Epoch: 8 [57600/60000 (96%)]\tLoss: 0.322666\n",
      "\n",
      "Test set: Average loss: 0.1834, Accuracy: 9485/10000 (94%)\n",
      "\n",
      "Train Epoch: 9 [0/60000 (0%)]\tLoss: 0.092750\n",
      "Train Epoch: 9 [6400/60000 (11%)]\tLoss: 0.166741\n",
      "Train Epoch: 9 [12800/60000 (21%)]\tLoss: 0.126308\n",
      "Train Epoch: 9 [19200/60000 (32%)]\tLoss: 0.175982\n",
      "Train Epoch: 9 [25600/60000 (43%)]\tLoss: 0.127290\n",
      "Train Epoch: 9 [32000/60000 (53%)]\tLoss: 0.221424\n",
      "Train Epoch: 9 [38400/60000 (64%)]\tLoss: 0.097850\n",
      "Train Epoch: 9 [44800/60000 (75%)]\tLoss: 0.278918\n",
      "Train Epoch: 9 [51200/60000 (85%)]\tLoss: 0.143232\n",
      "Train Epoch: 9 [57600/60000 (96%)]\tLoss: 0.309534\n",
      "\n",
      "Test set: Average loss: 0.1718, Accuracy: 9517/10000 (95%)\n",
      "\n",
      "Train Epoch: 10 [0/60000 (0%)]\tLoss: 0.083631\n",
      "Train Epoch: 10 [6400/60000 (11%)]\tLoss: 0.155964\n",
      "Train Epoch: 10 [12800/60000 (21%)]\tLoss: 0.120228\n",
      "Train Epoch: 10 [19200/60000 (32%)]\tLoss: 0.162583\n",
      "Train Epoch: 10 [25600/60000 (43%)]\tLoss: 0.117513\n",
      "Train Epoch: 10 [32000/60000 (53%)]\tLoss: 0.208134\n",
      "Train Epoch: 10 [38400/60000 (64%)]\tLoss: 0.090635\n",
      "Train Epoch: 10 [44800/60000 (75%)]\tLoss: 0.266213\n",
      "Train Epoch: 10 [51200/60000 (85%)]\tLoss: 0.133777\n",
      "Train Epoch: 10 [57600/60000 (96%)]\tLoss: 0.297312\n",
      "\n",
      "Test set: Average loss: 0.1616, Accuracy: 9548/10000 (95%)\n",
      "\n"
     ]
    }
   ],
   "source": [
    "for epoch in range(1, epochs + 1):\n",
    "    train_ml(epoch)\n",
    "    test_ml()"
   ]
  },
  {
   "cell_type": "code",
   "execution_count": 79,
   "metadata": {},
   "outputs": [],
   "source": [
    "## network and optimizer (CNN)\n",
    "if dataset == 'mnist':\n",
    "    num_inputs = 784\n",
    "elif dataset == 'cifar10':\n",
    "    num_inputs = 3072\n",
    "\n",
    "num_outputs = 10 # same for both CIFAR10 and MNIST, both have 10 classes as outputs\n",
    "\n",
    "class CNN(nn.Module):\n",
    "\n",
    "    def __init__(self):\n",
    "        super(CNN, self).__init__()\n",
    "#         torch.nn.Conv2d(in_channels, out_channels, kernel_size, stride=1, padding=0, dilation=1, groups=1, bias=True)\n",
    "#         torch.nn.MaxPool2d(kernel_size, stride=None, padding=0, dilation=1, return_indices=False, ceil_mode=False)\n",
    "#         torch.nn.Linear(in_features, out_features, bias=True)\n",
    "#         Convolution with 5 by 5 filters, 16 feature maps + Tanh nonlinearity.\n",
    "#         2 by 2 max pooling.\n",
    "#         Convolution with 5 by 5 filters, 128 feature maps + Tanh nonlinearity.\n",
    "#         2 by 2 max pooling.\n",
    "#         Flatten to vector.\n",
    "#         Linear layer with 64 hidden units + Tanh nonlinearity.\n",
    "#         Linear layer to 10 output units.\n",
    "        # 1 input image channel, 6 output channels, 5x5 square convolution\n",
    "        # kernel\n",
    "        self.conv1 = nn.Conv2d(3,16,5) #self.conv1 = nn.Conv2d(1, 6, 5)\n",
    "        self.conv2 = nn.Conv2d(16,128,5) #self.conv2 = nn.Conv2d(6, 16, 5)\n",
    "        # an affine operation: y = Wx + b\n",
    "        self.fc1 = nn.Linear(128 * 5 * 5, 64) #self.fc1 = nn.Linear(16 * 5 * 5, 120)\n",
    "        self.fc2 = nn.Linear(64, 10)\n",
    "#         self.fc3 = nn.Linear(84, 10)\n",
    "\n",
    "    def forward(self, x):\n",
    "        # Max pooling over a (2, 2) window\n",
    "        x = F.max_pool2d(F.tanh(self.conv1(x)), (2, 2))\n",
    "        # If the size is a square you can only specify a single number\n",
    "        x = F.max_pool2d(F.tanh(self.conv2(x)), (2,2))\n",
    "        x = x.view(-1, self.num_flat_features(x))\n",
    "        x = F.tanh(self.fc1(x)) #x = F.relu(self.fc1(x))\n",
    "        x = self.fc2(x)\n",
    "        return x\n",
    "\n",
    "    def num_flat_features(self, x):\n",
    "        size = x.size()[1:]  # all dimensions except the batch dimension\n",
    "        num_features = 1\n",
    "        for s in size:\n",
    "            num_features *= s\n",
    "        return num_features\n",
    "convolutional_neural_network = CNN()\n",
    "cnn_optimizer = optim.SGD(convolutional_neural_network.parameters(), lr=lr)"
   ]
  },
  {
   "cell_type": "code",
   "execution_count": 80,
   "metadata": {},
   "outputs": [],
   "source": [
    "\n",
    "def train_CNN(epoch):\n",
    "    convolutional_neural_network.train()\n",
    "    for batch_idx, (data, target) in enumerate(train_loader):\n",
    "        data, target = Variable(data), Variable(target)\n",
    "        cnn_optimizer.zero_grad()\n",
    "        output = convolutional_neural_network(data)\n",
    "        loss = F.cross_entropy(output, target)\n",
    "        loss.backward()\n",
    "        cnn_optimizer.step()\n",
    "        if batch_idx % 100 == 0:\n",
    "            print('Train Epoch: {} [{}/{} ({:.0f}%)]\\tLoss: {:.6f}'.format(\n",
    "                epoch, batch_idx * len(data), len(train_loader.dataset),\n",
    "                100. * batch_idx / len(train_loader), loss.data[0]))\n",
    "\n",
    "def test_CNN():\n",
    "    convolutional_neural_network.eval()\n",
    "    test_loss = 0\n",
    "    correct = 0\n",
    "    for data, target in test_loader:\n",
    "        data, target = Variable(data, volatile=True), Variable(target)\n",
    "        output = convolutional_neural_network(data)\n",
    "        test_loss += F.cross_entropy(output, target, size_average=False).data[0] # sum up batch loss\n",
    "        pred = output.data.max(1, keepdim=True)[1] # get the index of the max log-probability\n",
    "        correct += pred.eq(target.data.view_as(pred)).cpu().sum()\n",
    "\n",
    "    test_loss /= len(test_loader.dataset)\n",
    "    print('\\nTest set: Average loss: {:.4f}, Accuracy: {}/{} ({:.0f}%)\\n'.format(\n",
    "        test_loss, correct, len(test_loader.dataset),\n",
    "        100. * correct / len(test_loader.dataset)))"
   ]
  },
  {
   "cell_type": "code",
   "execution_count": 81,
   "metadata": {},
   "outputs": [
    {
     "name": "stderr",
     "output_type": "stream",
     "text": [
      "/home/riken/NYU/Fall18/computer_vision/cv-env/lib/python3.6/site-packages/torch/nn/functional.py:995: UserWarning: nn.functional.tanh is deprecated. Use torch.tanh instead.\n",
      "  warnings.warn(\"nn.functional.tanh is deprecated. Use torch.tanh instead.\")\n",
      "/home/riken/NYU/Fall18/computer_vision/cv-env/lib/python3.6/site-packages/ipykernel_launcher.py:14: UserWarning: invalid index of a 0-dim tensor. This will be an error in PyTorch 0.5. Use tensor.item() to convert a 0-dim tensor to a Python number\n",
      "  \n"
     ]
    },
    {
     "name": "stdout",
     "output_type": "stream",
     "text": [
      "Train Epoch: 1 [0/50000 (0%)]\tLoss: 2.303678\n",
      "Train Epoch: 1 [6400/50000 (13%)]\tLoss: 2.136883\n",
      "Train Epoch: 1 [12800/50000 (26%)]\tLoss: 2.101333\n",
      "Train Epoch: 1 [19200/50000 (38%)]\tLoss: 1.929760\n",
      "Train Epoch: 1 [25600/50000 (51%)]\tLoss: 1.932539\n",
      "Train Epoch: 1 [32000/50000 (64%)]\tLoss: 1.953855\n",
      "Train Epoch: 1 [38400/50000 (77%)]\tLoss: 1.850934\n",
      "Train Epoch: 1 [44800/50000 (90%)]\tLoss: 1.945940\n"
     ]
    },
    {
     "name": "stderr",
     "output_type": "stream",
     "text": [
      "/home/riken/NYU/Fall18/computer_vision/cv-env/lib/python3.6/site-packages/ipykernel_launcher.py:21: UserWarning: volatile was removed and now has no effect. Use `with torch.no_grad():` instead.\n",
      "/home/riken/NYU/Fall18/computer_vision/cv-env/lib/python3.6/site-packages/torch/nn/functional.py:52: UserWarning: size_average and reduce args will be deprecated, please use reduction='sum' instead.\n",
      "  warnings.warn(warning.format(ret))\n",
      "/home/riken/NYU/Fall18/computer_vision/cv-env/lib/python3.6/site-packages/ipykernel_launcher.py:23: UserWarning: invalid index of a 0-dim tensor. This will be an error in PyTorch 0.5. Use tensor.item() to convert a 0-dim tensor to a Python number\n"
     ]
    },
    {
     "name": "stdout",
     "output_type": "stream",
     "text": [
      "\n",
      "Test set: Average loss: 1.7907, Accuracy: 3832/10000 (38%)\n",
      "\n",
      "Train Epoch: 2 [0/50000 (0%)]\tLoss: 1.759125\n",
      "Train Epoch: 2 [6400/50000 (13%)]\tLoss: 1.885303\n",
      "Train Epoch: 2 [12800/50000 (26%)]\tLoss: 1.584472\n",
      "Train Epoch: 2 [19200/50000 (38%)]\tLoss: 1.744139\n",
      "Train Epoch: 2 [25600/50000 (51%)]\tLoss: 1.568099\n",
      "Train Epoch: 2 [32000/50000 (64%)]\tLoss: 1.693180\n",
      "Train Epoch: 2 [38400/50000 (77%)]\tLoss: 1.671553\n",
      "Train Epoch: 2 [44800/50000 (90%)]\tLoss: 1.831152\n",
      "\n",
      "Test set: Average loss: 1.5917, Accuracy: 4321/10000 (43%)\n",
      "\n",
      "Train Epoch: 3 [0/50000 (0%)]\tLoss: 1.686413\n",
      "Train Epoch: 3 [6400/50000 (13%)]\tLoss: 1.504746\n"
     ]
    },
    {
     "ename": "KeyboardInterrupt",
     "evalue": "",
     "output_type": "error",
     "traceback": [
      "\u001b[0;31m---------------------------------------------------------------------------\u001b[0m",
      "\u001b[0;31mKeyboardInterrupt\u001b[0m                         Traceback (most recent call last)",
      "\u001b[0;32m<ipython-input-81-a0d6cdcde2cd>\u001b[0m in \u001b[0;36m<module>\u001b[0;34m()\u001b[0m\n\u001b[1;32m      1\u001b[0m \u001b[0;32mfor\u001b[0m \u001b[0mepoch\u001b[0m \u001b[0;32min\u001b[0m \u001b[0mrange\u001b[0m\u001b[0;34m(\u001b[0m\u001b[0;36m1\u001b[0m\u001b[0;34m,\u001b[0m \u001b[0mepochs\u001b[0m \u001b[0;34m+\u001b[0m \u001b[0;36m1\u001b[0m\u001b[0;34m)\u001b[0m\u001b[0;34m:\u001b[0m\u001b[0;34m\u001b[0m\u001b[0m\n\u001b[0;32m----> 2\u001b[0;31m     \u001b[0mtrain_CNN\u001b[0m\u001b[0;34m(\u001b[0m\u001b[0mepoch\u001b[0m\u001b[0;34m)\u001b[0m\u001b[0;34m\u001b[0m\u001b[0m\n\u001b[0m\u001b[1;32m      3\u001b[0m     \u001b[0mtest_CNN\u001b[0m\u001b[0;34m(\u001b[0m\u001b[0;34m)\u001b[0m\u001b[0;34m\u001b[0m\u001b[0m\n",
      "\u001b[0;32m<ipython-input-80-e6ef232fd1b3>\u001b[0m in \u001b[0;36mtrain_CNN\u001b[0;34m(epoch)\u001b[0m\n\u001b[1;32m      2\u001b[0m \u001b[0;32mdef\u001b[0m \u001b[0mtrain_CNN\u001b[0m\u001b[0;34m(\u001b[0m\u001b[0mepoch\u001b[0m\u001b[0;34m)\u001b[0m\u001b[0;34m:\u001b[0m\u001b[0;34m\u001b[0m\u001b[0m\n\u001b[1;32m      3\u001b[0m     \u001b[0mconvolutional_neural_network\u001b[0m\u001b[0;34m.\u001b[0m\u001b[0mtrain\u001b[0m\u001b[0;34m(\u001b[0m\u001b[0;34m)\u001b[0m\u001b[0;34m\u001b[0m\u001b[0m\n\u001b[0;32m----> 4\u001b[0;31m     \u001b[0;32mfor\u001b[0m \u001b[0mbatch_idx\u001b[0m\u001b[0;34m,\u001b[0m \u001b[0;34m(\u001b[0m\u001b[0mdata\u001b[0m\u001b[0;34m,\u001b[0m \u001b[0mtarget\u001b[0m\u001b[0;34m)\u001b[0m \u001b[0;32min\u001b[0m \u001b[0menumerate\u001b[0m\u001b[0;34m(\u001b[0m\u001b[0mtrain_loader\u001b[0m\u001b[0;34m)\u001b[0m\u001b[0;34m:\u001b[0m\u001b[0;34m\u001b[0m\u001b[0m\n\u001b[0m\u001b[1;32m      5\u001b[0m         \u001b[0mdata\u001b[0m\u001b[0;34m,\u001b[0m \u001b[0mtarget\u001b[0m \u001b[0;34m=\u001b[0m \u001b[0mVariable\u001b[0m\u001b[0;34m(\u001b[0m\u001b[0mdata\u001b[0m\u001b[0;34m)\u001b[0m\u001b[0;34m,\u001b[0m \u001b[0mVariable\u001b[0m\u001b[0;34m(\u001b[0m\u001b[0mtarget\u001b[0m\u001b[0;34m)\u001b[0m\u001b[0;34m\u001b[0m\u001b[0m\n\u001b[1;32m      6\u001b[0m         \u001b[0mcnn_optimizer\u001b[0m\u001b[0;34m.\u001b[0m\u001b[0mzero_grad\u001b[0m\u001b[0;34m(\u001b[0m\u001b[0;34m)\u001b[0m\u001b[0;34m\u001b[0m\u001b[0m\n",
      "\u001b[0;32m~/NYU/Fall18/computer_vision/cv-env/lib/python3.6/site-packages/torch/utils/data/dataloader.py\u001b[0m in \u001b[0;36m__next__\u001b[0;34m(self)\u001b[0m\n\u001b[1;32m    312\u001b[0m         \u001b[0;32mif\u001b[0m \u001b[0mself\u001b[0m\u001b[0;34m.\u001b[0m\u001b[0mnum_workers\u001b[0m \u001b[0;34m==\u001b[0m \u001b[0;36m0\u001b[0m\u001b[0;34m:\u001b[0m  \u001b[0;31m# same-process loading\u001b[0m\u001b[0;34m\u001b[0m\u001b[0m\n\u001b[1;32m    313\u001b[0m             \u001b[0mindices\u001b[0m \u001b[0;34m=\u001b[0m \u001b[0mnext\u001b[0m\u001b[0;34m(\u001b[0m\u001b[0mself\u001b[0m\u001b[0;34m.\u001b[0m\u001b[0msample_iter\u001b[0m\u001b[0;34m)\u001b[0m  \u001b[0;31m# may raise StopIteration\u001b[0m\u001b[0;34m\u001b[0m\u001b[0m\n\u001b[0;32m--> 314\u001b[0;31m             \u001b[0mbatch\u001b[0m \u001b[0;34m=\u001b[0m \u001b[0mself\u001b[0m\u001b[0;34m.\u001b[0m\u001b[0mcollate_fn\u001b[0m\u001b[0;34m(\u001b[0m\u001b[0;34m[\u001b[0m\u001b[0mself\u001b[0m\u001b[0;34m.\u001b[0m\u001b[0mdataset\u001b[0m\u001b[0;34m[\u001b[0m\u001b[0mi\u001b[0m\u001b[0;34m]\u001b[0m \u001b[0;32mfor\u001b[0m \u001b[0mi\u001b[0m \u001b[0;32min\u001b[0m \u001b[0mindices\u001b[0m\u001b[0;34m]\u001b[0m\u001b[0;34m)\u001b[0m\u001b[0;34m\u001b[0m\u001b[0m\n\u001b[0m\u001b[1;32m    315\u001b[0m             \u001b[0;32mif\u001b[0m \u001b[0mself\u001b[0m\u001b[0;34m.\u001b[0m\u001b[0mpin_memory\u001b[0m\u001b[0;34m:\u001b[0m\u001b[0;34m\u001b[0m\u001b[0m\n\u001b[1;32m    316\u001b[0m                 \u001b[0mbatch\u001b[0m \u001b[0;34m=\u001b[0m \u001b[0mpin_memory_batch\u001b[0m\u001b[0;34m(\u001b[0m\u001b[0mbatch\u001b[0m\u001b[0;34m)\u001b[0m\u001b[0;34m\u001b[0m\u001b[0m\n",
      "\u001b[0;31mKeyboardInterrupt\u001b[0m: "
     ]
    }
   ],
   "source": [
    "for epoch in range(1, epochs + 1):\n",
    "    train_CNN(epoch)\n",
    "    test_CNN()"
   ]
  },
  {
   "cell_type": "code",
   "execution_count": 82,
   "metadata": {},
   "outputs": [
    {
     "ename": "KeyError",
     "evalue": "'linear.weight'",
     "output_type": "error",
     "traceback": [
      "\u001b[0;31m---------------------------------------------------------------------------\u001b[0m",
      "\u001b[0;31mKeyError\u001b[0m                                  Traceback (most recent call last)",
      "\u001b[0;32m<ipython-input-82-a32eb7095d6e>\u001b[0m in \u001b[0;36m<module>\u001b[0;34m()\u001b[0m\n\u001b[1;32m      1\u001b[0m \u001b[0;31m# print(network.state_dict().keys())\u001b[0m\u001b[0;34m\u001b[0m\u001b[0;34m\u001b[0m\u001b[0m\n\u001b[0;32m----> 2\u001b[0;31m \u001b[0mlinear_weights\u001b[0m \u001b[0;34m=\u001b[0m \u001b[0mconvolutional_neural_network\u001b[0m\u001b[0;34m.\u001b[0m\u001b[0mstate_dict\u001b[0m\u001b[0;34m(\u001b[0m\u001b[0;34m)\u001b[0m\u001b[0;34m[\u001b[0m\u001b[0;34m'linear.weight'\u001b[0m\u001b[0;34m]\u001b[0m\u001b[0;34m\u001b[0m\u001b[0m\n\u001b[0m\u001b[1;32m      3\u001b[0m \u001b[0;34m\u001b[0m\u001b[0m\n\u001b[1;32m      4\u001b[0m \u001b[0mweights\u001b[0m \u001b[0;34m=\u001b[0m \u001b[0mtorch\u001b[0m\u001b[0;34m.\u001b[0m\u001b[0mreshape\u001b[0m\u001b[0;34m(\u001b[0m\u001b[0mlinear_weights\u001b[0m\u001b[0;34m,\u001b[0m\u001b[0;34m(\u001b[0m\u001b[0;36m10\u001b[0m\u001b[0;34m,\u001b[0m\u001b[0;36m1\u001b[0m\u001b[0;34m,\u001b[0m\u001b[0;36m28\u001b[0m\u001b[0;34m,\u001b[0m\u001b[0;36m28\u001b[0m\u001b[0;34m)\u001b[0m\u001b[0;34m)\u001b[0m\u001b[0;34m\u001b[0m\u001b[0m\n\u001b[1;32m      5\u001b[0m \u001b[0;34m\u001b[0m\u001b[0m\n",
      "\u001b[0;31mKeyError\u001b[0m: 'linear.weight'"
     ]
    }
   ],
   "source": [
    "# print(network.state_dict().keys())\n",
    "linear_weights = convolutional_neural_network.state_dict()['linear.weight']\n",
    "\n",
    "weights = torch.reshape(linear_weights,(10,1,28,28))\n",
    "\n",
    "vistensor(weights, ch=0, allkernels=True)\n",
    "savetensor(weights,'linear_weights_new.png', allkernels=True)"
   ]
  },
  {
   "cell_type": "code",
   "execution_count": null,
   "metadata": {},
   "outputs": [],
   "source": [
    "print(convolutional_neural_network)"
   ]
  },
  {
   "cell_type": "code",
   "execution_count": 83,
   "metadata": {},
   "outputs": [
    {
     "name": "stdout",
     "output_type": "stream",
     "text": [
      "----------------------------------------------------------------\n",
      "        Layer (type)               Output Shape         Param #\n",
      "================================================================\n",
      "            Conv2d-1           [-1, 16, 28, 28]           1,216\n",
      "            Conv2d-2          [-1, 128, 10, 10]          51,328\n",
      "            Linear-3                   [-1, 64]         204,864\n",
      "            Linear-4                   [-1, 10]             650\n",
      "================================================================\n",
      "Total params: 258,058\n",
      "Trainable params: 258,058\n",
      "Non-trainable params: 0\n",
      "----------------------------------------------------------------\n",
      "Input size (MB): 0.01\n",
      "Forward/backward pass size (MB): 0.19\n",
      "Params size (MB): 0.98\n",
      "Estimated Total Size (MB): 1.19\n",
      "----------------------------------------------------------------\n"
     ]
    },
    {
     "name": "stderr",
     "output_type": "stream",
     "text": [
      "/home/riken/NYU/Fall18/computer_vision/cv-env/lib/python3.6/site-packages/torch/nn/functional.py:995: UserWarning: nn.functional.tanh is deprecated. Use torch.tanh instead.\n",
      "  warnings.warn(\"nn.functional.tanh is deprecated. Use torch.tanh instead.\")\n"
     ]
    }
   ],
   "source": [
    "from torchsummary import summary\n",
    "summary(convolutional_neural_network, input_size=(3, 32, 32))"
   ]
  },
  {
   "cell_type": "code",
   "execution_count": 89,
   "metadata": {},
   "outputs": [
    {
     "name": "stdout",
     "output_type": "stream",
     "text": [
      "torch.Size([16, 3, 5, 5])\n"
     ]
    },
    {
     "data": {
      "image/png": "[encoded data removed]",
      "text/plain": [
       "<Figure size 432x288 with 1 Axes>"
      ]
     },
     "metadata": {
      "needs_background": "light"
     },
     "output_type": "display_data"
    }
   ],
   "source": [
    "filter1 = convolutional_neural_network.conv1.weight.data\n",
    "print(filter1.shape)\n",
    "# vistensor(filter1, ch=0, allkernels=True)\n",
    "imshow(torchvision.utils.make_grid(filter1, normalize = True))"
   ]
  },
  {
   "cell_type": "code",
   "execution_count": null,
   "metadata": {},
   "outputs": [],
   "source": []
  },
  {
   "cell_type": "code",
   "execution_count": null,
   "metadata": {},
   "outputs": [],
   "source": []
  }
 ],
 "metadata": {
  "kernelspec": {
   "display_name": "Python 3",
   "language": "python",
   "name": "python3"
  },
  "language_info": {
   "codemirror_mode": {
    "name": "ipython",
    "version": 3
   },
   "file_extension": ".py",
   "mimetype": "text/x-python",
   "name": "python",
   "nbconvert_exporter": "python",
   "pygments_lexer": "ipython3",
   "version": "3.6.5"
  }
 },
 "nbformat": 4,
 "nbformat_minor": 2
}
